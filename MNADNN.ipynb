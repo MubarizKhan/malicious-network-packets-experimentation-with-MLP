{
  "cells": [
    {
      "cell_type": "code",
      "execution_count": null,
      "metadata": {
        "colab": {
          "background_save": true,
          "base_uri": "https://localhost:8080/"
        },
        "id": "cV8k9N5no2df",
        "outputId": "ec5e05e4-be5e-4f40-b124-a97c872f58a3"
      },
      "outputs": [
        {
          "name": "stdout",
          "output_type": "stream",
          "text": [
            "hi\n"
          ]
        }
      ],
      "source": [
        "print('hi')\n",
        "from google.colab import drive\n",
        "drive.mount('/content/drive')"
      ]
    },
    {
      "cell_type": "code",
      "execution_count": null,
      "metadata": {
        "id": "Me_rKEd7o5nF"
      },
      "outputs": [],
      "source": [
        "from sklearn.model_selection import train_test_split\n",
        "from sklearn import preprocessing\n",
        "import pandas as pd\n",
        "\n",
        "from keras.models import Sequential\n",
        "from keras.layers import Dense\n",
        "from keras.wrappers.scikit_learn import KerasClassifier\n",
        "from keras.utils import np_utils\n",
        "from sklearn.model_selection import cross_val_score\n",
        "from sklearn.model_selection import KFold\n",
        "from sklearn.preprocessing import LabelEncoder\n",
        "from sklearn.pipeline import Pipeline"
      ]
    },
    {
      "cell_type": "code",
      "execution_count": null,
      "metadata": {
        "id": "6CuycKxgp_2I"
      },
      "outputs": [],
      "source": []
    },
    {
      "cell_type": "code",
      "execution_count": null,
      "metadata": {
        "id": "PIobOmKnp_44"
      },
      "outputs": [],
      "source": [
        "df[' Label'].value_counts()"
      ]
    },
    {
      "cell_type": "code",
      "execution_count": null,
      "metadata": {
        "colab": {
          "base_uri": "https://localhost:8080/"
        },
        "id": "KjHybyD_p_77",
        "outputId": "4f95470c-a1e1-416c-e49f-b24bdb06e5a5"
      },
      "outputs": [
        {
          "name": "stdout",
          "output_type": "stream",
          "text": [
            "<class 'pandas.core.frame.DataFrame'>\n",
            "Int64Index: 2827876 entries, 0 to 2830742\n",
            "Data columns (total 56 columns):\n",
            " #   Column                       Dtype \n",
            "---  ------                       ----- \n",
            " 0    Destination Port            uint8 \n",
            " 1    Flow Duration               uint8 \n",
            " 2    Total Fwd Packets           uint8 \n",
            " 3    Total Backward Packets      uint8 \n",
            " 4   Total Length of Fwd Packets  uint8 \n",
            " 5    Fwd Packet Length Max       uint8 \n",
            " 6    Fwd Packet Length Min       uint8 \n",
            " 7    Fwd Packet Length Mean      uint8 \n",
            " 8    Fwd Packet Length Std       uint8 \n",
            " 9   Bwd Packet Length Max        uint8 \n",
            " 10   Bwd Packet Length Min       uint8 \n",
            " 11   Bwd Packet Length Mean      uint8 \n",
            " 12   Bwd Packet Length Std       uint8 \n",
            " 13  Flow Bytes/s                 uint8 \n",
            " 14   Flow Packets/s              uint8 \n",
            " 15   Flow IAT Mean               uint8 \n",
            " 16   Flow IAT Std                uint8 \n",
            " 17   Flow IAT Max                uint8 \n",
            " 18   Flow IAT Min                uint8 \n",
            " 19  Fwd IAT Total                uint8 \n",
            " 20   Fwd IAT Mean                uint8 \n",
            " 21   Fwd IAT Std                 uint8 \n",
            " 22   Fwd IAT Max                 uint8 \n",
            " 23   Fwd IAT Min                 uint8 \n",
            " 24  Bwd IAT Total                int64 \n",
            " 25   Bwd IAT Max                 uint8 \n",
            " 26  Fwd PSH Flags                uint8 \n",
            " 27   Fwd Header Length           uint8 \n",
            " 28   Bwd Header Length           uint8 \n",
            " 29  Fwd Packets/s                uint8 \n",
            " 30   Min Packet Length           uint8 \n",
            " 31   Max Packet Length           uint8 \n",
            " 32   Packet Length Mean          uint8 \n",
            " 33   Packet Length Std           uint8 \n",
            " 34   Packet Length Variance      uint8 \n",
            " 35  FIN Flag Count               uint8 \n",
            " 36   PSH Flag Count              uint8 \n",
            " 37   ACK Flag Count              uint8 \n",
            " 38   URG Flag Count              uint8 \n",
            " 39   Average Packet Size         uint8 \n",
            " 40   Avg Fwd Segment Size        uint8 \n",
            " 41   Avg Bwd Segment Size        uint8 \n",
            " 42   Fwd Header Length.1         uint8 \n",
            " 43  Subflow Fwd Packets          uint8 \n",
            " 44   Subflow Fwd Bytes           uint8 \n",
            " 45   Subflow Bwd Packets         uint8 \n",
            " 46   Subflow Bwd Bytes           uint8 \n",
            " 47  Init_Win_bytes_forward       uint8 \n",
            " 48   Init_Win_bytes_backward     uint8 \n",
            " 49   act_data_pkt_fwd            uint8 \n",
            " 50   min_seg_size_forward        uint8 \n",
            " 51  Idle Mean                    uint8 \n",
            " 52   Idle Std                    uint8 \n",
            " 53   Idle Max                    uint8 \n",
            " 54   Idle Min                    uint8 \n",
            " 55   Label                       object\n",
            "dtypes: int64(1), object(1), uint8(54)\n",
            "memory usage: 210.4+ MB\n"
          ]
        }
      ],
      "source": [
        "df = pd.read_hdf('/content/drive/MyDrive/MNAD-FYP/MachineLearningCVE/Dataset-Analysis/pure_unsigneddata.h5')\n",
        "df.info()"
      ]
    },
    {
      "cell_type": "code",
      "execution_count": null,
      "metadata": {
        "id": "V5-C6OmSqywm"
      },
      "outputs": [],
      "source": [
        "\n",
        "# del df['Fwd Avg Bytes/Bulk']\n",
        "# del df[' SYN Flag Count']\n",
        "# del df['Bwd Avg Bulk Rate']\n",
        "# del df[' RST Flag Count']\n",
        "# del df[' Fwd Avg Packets/Bulk']\n",
        "# del df[' Fwd Avg Bulk Rate']\n",
        "# del df[' ECE Flag Count']\n",
        "# del df[' CWE Flag Count']\n",
        "# del df[' Bwd URG Flags']\n",
        "# del df[' Bwd PSH Flags']\n",
        "# del df[' Bwd Avg Packets/Bulk']\n",
        "# del df[' Bwd Avg Bytes/Bulk']\n",
        "# del df[' Bwd Packets/s']\n",
        "# del df['Active Mean']\n",
        "# del df[' Active Min']\n",
        "# del df[' Total Length of Bwd Packets']\n",
        "# del df[ ' Bwd IAT Std']\n",
        "# del df[ ' Bwd IAT Mean']\n",
        "# del df[' Active Std']\n",
        "# del df[ ' Bwd IAT Min']\n",
        "# del df[' Down/Up Ratio']\n",
        "# del df[' Active Max']\n",
        "# del df[' Fwd URG Flags']\n",
        "\n",
        "df.replace([np.inf, -np.inf], np.nan, inplace=True)\n",
        "  \n",
        "# Dropping all the rows with nan values\n",
        "df.dropna(inplace=True)\n"
      ]
    },
    {
      "cell_type": "code",
      "execution_count": null,
      "metadata": {
        "id": "HvYRTCV8qzAW"
      },
      "outputs": [],
      "source": [
        "# X=df.iloc[:,:-1]\n",
        "# \n",
        "# X.info()\n",
        "# X = df.values"
      ]
    },
    {
      "cell_type": "code",
      "execution_count": null,
      "metadata": {
        "colab": {
          "base_uri": "https://localhost:8080/"
        },
        "id": "lpkwnaYFmcFR",
        "outputId": "05b5095f-7ff4-47df-9c73-570e08ed4335"
      },
      "outputs": [
        {
          "data": {
            "text/plain": [
              "0     2271320\n",
              "4      230124\n",
              "10     158804\n",
              "2      128025\n",
              "3       10293\n",
              "7        7935\n",
              "11       5897\n",
              "6        5796\n",
              "5        5499\n",
              "1        1956\n",
              "12       1507\n",
              "14        652\n",
              "9          36\n",
              "13         21\n",
              "8          11\n",
              "Name:  Label, dtype: int64"
            ]
          },
          "execution_count": 4,
          "metadata": {},
          "output_type": "execute_result"
        }
      ],
      "source": [
        "encoder = LabelEncoder()\n",
        "df[' Label'] = encoder.fit_transform(df[' Label'])\n",
        "df[' Label'].value_counts()\n",
        "# X = dataset[:,0:54]\n",
        "# Y = dataset[:,55]\n",
        "# # encode class values as integers\n",
        "# encoder = LabelEncoder()\n",
        "# encoder.fit(Y)\n",
        "# encoded_Y = encoder.transform(Y)\n",
        "# # # convert integers to dummy variables (i.e. one hot encoded)\n",
        "# dummy_y = np_utils.to_categorical(encoded_Y)\n"
      ]
    },
    {
      "cell_type": "code",
      "execution_count": null,
      "metadata": {
        "colab": {
          "base_uri": "https://localhost:8080/"
        },
        "id": "lIqxPiWN32I1",
        "outputId": "86142cc8-17ec-4307-ccff-dc969cc9b171"
      },
      "outputs": [
        {
          "data": {
            "text/plain": [
              "array([[213,   0,   0, ...,   0,   0,   0],\n",
              "       [214,   0,   0, ...,   0,   0,   0],\n",
              "       [214,   0,   0, ...,   0,   0,   0],\n",
              "       ...,\n",
              "       [225,   0,   0, ...,   0,   0,   0],\n",
              "       [  0,   2,   0, ...,   0,   0,   0],\n",
              "       [  0,   0,   0, ...,   0,   0,   0]])"
            ]
          },
          "execution_count": 13,
          "metadata": {},
          "output_type": "execute_result"
        }
      ],
      "source": [
        "dataset = df.values\n",
        "dataset"
      ]
    },
    {
      "cell_type": "code",
      "execution_count": null,
      "metadata": {
        "id": "dbmLHMgz3DBN"
      },
      "outputs": [],
      "source": [
        "import numpy as np\n",
        "ds = np.asarray(dataset).astype('float32')\n"
      ]
    },
    {
      "cell_type": "code",
      "execution_count": null,
      "metadata": {
        "id": "wwBRYoMYu_HW"
      },
      "outputs": [],
      "source": [
        "x = np.asarray(X).astype('float32')\n",
        "y = np.asarray(encoded_Y).astype('float32')"
      ]
    },
    {
      "cell_type": "code",
      "execution_count": null,
      "metadata": {
        "colab": {
          "base_uri": "https://localhost:8080/"
        },
        "id": "ytgT7vZJnAiu",
        "outputId": "fbc52210-ac10-4d43-8551-b4b170d5be4f"
      },
      "outputs": [
        {
          "name": "stdout",
          "output_type": "stream",
          "text": [
            "2827876 2827876\n"
          ]
        }
      ],
      "source": [
        "type(y[43535])\n",
        "print( len(x), len(y))"
      ]
    },
    {
      "cell_type": "code",
      "execution_count": null,
      "metadata": {
        "id": "0yxQLzf0qzIW"
      },
      "outputs": [],
      "source": [
        "# from sklearn.preprocessing import LabelEncoder\n",
        "\n",
        "# target = df[' Label']\n",
        "# le = LabelEncoder()\n",
        "# target = le.fit_transform(target)"
      ]
    },
    {
      "cell_type": "code",
      "execution_count": null,
      "metadata": {
        "colab": {
          "base_uri": "https://localhost:8080/"
        },
        "id": "Nt5Jj3D1qNtt",
        "outputId": "8f573018-8dbe-4cd6-a83e-d1a42cd262a8"
      },
      "outputs": [
        {
          "data": {
            "text/plain": [
              "(2827876, 55)"
            ]
          },
          "execution_count": 64,
          "metadata": {},
          "output_type": "execute_result"
        }
      ],
      "source": [
        "# target.shape\n",
        "# X.shape"
      ]
    },
    {
      "cell_type": "code",
      "execution_count": null,
      "metadata": {
        "colab": {
          "base_uri": "https://localhost:8080/"
        },
        "id": "c6ZKwYczSdpu",
        "outputId": "0fc3d0a6-4c2d-4bb3-ab05-30cd1634a961"
      },
      "outputs": [
        {
          "data": {
            "text/plain": [
              "array([[213,   0,   0, ...,   0,   0,   0],\n",
              "       [214,   0,   0, ...,   0,   0,   0],\n",
              "       [214,   0,   0, ...,   0,   0,   0],\n",
              "       ...,\n",
              "       [225,   0,   0, ...,   0,   0,   0],\n",
              "       [  0,   2,   0, ...,   0,   0,   0],\n",
              "       [  0,   0,   0, ...,   0,   0,   0]])"
            ]
          },
          "execution_count": 61,
          "metadata": {},
          "output_type": "execute_result"
        }
      ],
      "source": [
        "# X = X.values\n",
        "# X"
      ]
    },
    {
      "cell_type": "code",
      "execution_count": null,
      "metadata": {
        "colab": {
          "base_uri": "https://localhost:8080/"
        },
        "id": "KoEJEN_lSdu2",
        "outputId": "de07185f-82bc-44d0-8ed4-d5ff685fd084"
      },
      "outputs": [
        {
          "name": "stdout",
          "output_type": "stream",
          "text": [
            "2827876 2827876\n"
          ]
        }
      ],
      "source": [
        "# target = target.values\n",
        "# print( len(target), len(X))"
      ]
    },
    {
      "cell_type": "code",
      "execution_count": null,
      "metadata": {
        "id": "s97suSSSSdyS"
      },
      "outputs": [],
      "source": [
        "df[' Label'].value_counts()"
      ]
    },
    {
      "cell_type": "code",
      "execution_count": null,
      "metadata": {
        "colab": {
          "base_uri": "https://localhost:8080/"
        },
        "id": "Vaf0CXuvTY6z",
        "outputId": "2b123178-d6f0-44eb-80ee-8e3e1738b8af"
      },
      "outputs": [
        {
          "name": "stdout",
          "output_type": "stream",
          "text": [
            "Requirement already satisfied: keras in /usr/local/lib/python3.7/dist-packages (2.6.0)\n"
          ]
        }
      ],
      "source": [
        "!pip install keras"
      ]
    },
    {
      "cell_type": "code",
      "execution_count": null,
      "metadata": {
        "colab": {
          "base_uri": "https://localhost:8080/"
        },
        "id": "RpfIaPlMTY9F",
        "outputId": "64f602d7-2310-4cb8-a8c0-1de9df2ae173"
      },
      "outputs": [
        {
          "data": {
            "text/plain": [
              "(1979513,)"
            ]
          },
          "execution_count": 71,
          "metadata": {},
          "output_type": "execute_result"
        }
      ],
      "source": [
        "y_train.shape\n",
        "# y_train"
      ]
    },
    {
      "cell_type": "code",
      "execution_count": null,
      "metadata": {
        "id": "SHushD9ANzPj"
      },
      "outputs": [],
      "source": [
        "from sklearn.model_selection import train_test_split"
      ]
    },
    {
      "cell_type": "code",
      "execution_count": null,
      "metadata": {
        "id": "9bEHl4y45g1Z"
      },
      "outputs": [],
      "source": [
        "train_dataset, temp_test_dataset = train_test_split(df, test_size = 0.30)"
      ]
    },
    {
      "cell_type": "code",
      "execution_count": null,
      "metadata": {
        "id": "Ko9oRRTm6AKd"
      },
      "outputs": [],
      "source": [
        "test_dataset, valid_dataset = train_test_split(temp_test_dataset, test_size = 0.5)"
      ]
    },
    {
      "cell_type": "code",
      "execution_count": null,
      "metadata": {
        "colab": {
          "base_uri": "https://localhost:8080/"
        },
        "id": "IgKckXDK6h0V",
        "outputId": "fcf931c9-7dd8-47da-d034-0b65bb2ddf2b"
      },
      "outputs": [
        {
          "data": {
            "text/plain": [
              "((1979513, 56), (848363, 56), (424181, 56), (424182, 56))"
            ]
          },
          "execution_count": 8,
          "metadata": {},
          "output_type": "execute_result"
        }
      ],
      "source": [
        "train_dataset.shape, temp_test_dataset.shape, test_dataset.shape, valid_dataset.shape\n",
        "# test_dataset.sample(10)"
      ]
    },
    {
      "cell_type": "code",
      "execution_count": null,
      "metadata": {
        "colab": {
          "base_uri": "https://localhost:8080/"
        },
        "id": "J446RmmSDfS2",
        "outputId": "6693d178-1600-4452-edc2-8d3dc8290ca5"
      },
      "outputs": [
        {
          "name": "stderr",
          "output_type": "stream",
          "text": [
            "/usr/local/lib/python3.7/dist-packages/pandas/core/frame.py:4389: SettingWithCopyWarning: \n",
            "A value is trying to be set on a copy of a slice from a DataFrame\n",
            "\n",
            "See the caveats in the documentation: https://pandas.pydata.org/pandas-docs/stable/user_guide/indexing.html#returning-a-view-versus-a-copy\n",
            "  method=method,\n",
            "/usr/local/lib/python3.7/dist-packages/ipykernel_launcher.py:5: SettingWithCopyWarning: \n",
            "A value is trying to be set on a copy of a slice from a DataFrame\n",
            "\n",
            "See the caveats in the documentation: https://pandas.pydata.org/pandas-docs/stable/user_guide/indexing.html#returning-a-view-versus-a-copy\n",
            "  \"\"\"\n"
          ]
        }
      ],
      "source": [
        "import numpy as np\n",
        "valid_dataset.replace([np.inf, -np.inf], np.nan, inplace=True)\n",
        "  \n",
        "# Dropping all the rows with nan values\n",
        "valid_dataset.dropna(inplace=True)"
      ]
    },
    {
      "cell_type": "code",
      "execution_count": null,
      "metadata": {
        "id": "u7Q4lr9OFRr-"
      },
      "outputs": [],
      "source": [
        "count = 0\n",
        "for i in np.max(valid_dataset).astype(np.float32):\n",
        "    count += 1\n",
        "    print(count, '---',i)"
      ]
    },
    {
      "cell_type": "code",
      "execution_count": null,
      "metadata": {
        "id": "epHgV7DW7cDA"
      },
      "outputs": [],
      "source": [
        "train_labels1 = train_dataset.pop(' Label')\n",
        "test_labels1 = test_dataset.pop(' Label')\n",
        "valid_labels1 = valid_dataset.pop(' Label')"
      ]
    },
    {
      "cell_type": "code",
      "execution_count": null,
      "metadata": {
        "id": "QY9d1kvW7cF7"
      },
      "outputs": [],
      "source": [
        "train_labels = pd.get_dummies(train_labels1, prefix='Label')\n",
        "test_labels = pd.get_dummies(test_labels1, prefix='Label')\n",
        "valid_labels = pd.get_dummies(valid_labels1, prefix='Label')"
      ]
    },
    {
      "cell_type": "code",
      "execution_count": null,
      "metadata": {
        "colab": {
          "base_uri": "https://localhost:8080/"
        },
        "id": "BYltvcWN7cIW",
        "outputId": "5812e8b0-c2ad-4349-82e4-f2482c414ae3"
      },
      "outputs": [
        {
          "data": {
            "text/plain": [
              "1979513"
            ]
          },
          "execution_count": 33,
          "metadata": {},
          "output_type": "execute_result"
        }
      ],
      "source": [
        "# train_labels\n",
        "train_dataset.shape[0]"
      ]
    },
    {
      "cell_type": "code",
      "execution_count": null,
      "metadata": {
        "colab": {
          "base_uri": "https://localhost:8080/"
        },
        "id": "eK7D6mUB7cLP",
        "outputId": "f1bc2bcb-2992-4c3d-e4e2-d2fb529cff41"
      },
      "outputs": [
        {
          "data": {
            "text/plain": [
              "55"
            ]
          },
          "execution_count": 40,
          "metadata": {},
          "output_type": "execute_result"
        }
      ],
      "source": [
        "t = train_dataset.shape[1]\n",
        "t"
      ]
    },
    {
      "cell_type": "code",
      "execution_count": null,
      "metadata": {
        "id": "KXlToNtSPeV9"
      },
      "outputs": [],
      "source": [
        "model = Sequential([\n",
        "    Dense(15, activation='relu', input_shape=(55,)),\n",
        "    # model.add(Dropout(0.2)),\n",
        "    Dense(55, activation='relu'),\n",
        "    Dense(55, activation='relu'),\n",
        "    Dense(55, activation='relu'),\n",
        "    Dense(55, activation='relu'),\n",
        "    Dense(55, activation='relu'),\n",
        "    Dense(55, activation='relu'),\n",
        "    Dense(15, activation='softmax'),\n",
        "])"
      ]
    },
    {
      "cell_type": "code",
      "execution_count": null,
      "metadata": {
        "id": "7a9yBk3Di1G5"
      },
      "outputs": [],
      "source": [
        "model.compile(optimizer='sgd',\n",
        "              loss='binary_crossentropy',\n",
        "              metrics=['accuracy'])"
      ]
    },
    {
      "cell_type": "code",
      "execution_count": null,
      "metadata": {
        "colab": {
          "base_uri": "https://localhost:8080/"
        },
        "id": "czQfm06BoIOo",
        "outputId": "6e05eaed-e0bb-4447-8ee0-d88ba8009c56"
      },
      "outputs": [
        {
          "data": {
            "text/plain": [
              "2827876"
            ]
          },
          "execution_count": 39,
          "metadata": {},
          "output_type": "execute_result"
        }
      ],
      "source": [
        "len(X_scale)"
      ]
    },
    {
      "cell_type": "code",
      "execution_count": null,
      "metadata": {
        "id": "esxerczWpnPY"
      },
      "outputs": [],
      "source": [
        "import numpy as np\n",
        "# x_train=np.asarray(x_train).astype(np.int)\n",
        "\n",
        "# y_train=np.asarray(y_train).astype(np.int)"
      ]
    },
    {
      "cell_type": "code",
      "execution_count": null,
      "metadata": {
        "colab": {
          "base_uri": "https://localhost:8080/"
        },
        "id": "izjQM1q_qSEC",
        "outputId": "b81ce0a1-1038-46ca-8b80-307085ae1bfe"
      },
      "outputs": [
        {
          "name": "stdout",
          "output_type": "stream",
          "text": [
            "Successfully installed Automat-20.2.0 Twisted-21.7.0 constantly-15.1.0 construct-2.10.67 hyperlink-21.0.0 incremental-21.3.0 ply-3.11 pycryptodomex-3.10.4 pysmi-0.3.4 pysnmp-4.4.12 tensor-0.3.6 zope.interface-5.4.0\n"
          ]
        }
      ],
      "source": [
        "!pip install tensor"
      ]
    },
    {
      "cell_type": "code",
      "execution_count": null,
      "metadata": {
        "id": "PSt1XB0sqAO4"
      },
      "outputs": [],
      "source": [
        "import tensor as tf\n",
        "#Considering y variable holds numpy array\n",
        "y_tensor = tf.convert_to_tensor(y_train, dtype=tf.int64)\n",
        "x_tensor = tf.convert_to_tensor(x_train, dtype=tf.int64)"
      ]
    },
    {
      "cell_type": "code",
      "execution_count": null,
      "metadata": {
        "colab": {
          "base_uri": "https://localhost:8080/"
        },
        "id": "qKLP4192o-bz",
        "outputId": "b0fb371e-a169-442d-f603-cd032f910103"
      },
      "outputs": [
        {
          "data": {
            "text/plain": [
              "int"
            ]
          },
          "execution_count": 28,
          "metadata": {},
          "output_type": "execute_result"
        }
      ],
      "source": [
        "type(x_test[0][1])"
      ]
    },
    {
      "cell_type": "code",
      "execution_count": null,
      "metadata": {
        "colab": {
          "base_uri": "https://localhost:8080/"
        },
        "id": "Ie-6ERb8upwY",
        "outputId": "a7c0b558-c7d7-4b17-e29b-4ad730699bc4"
      },
      "outputs": [
        {
          "name": "stdout",
          "output_type": "stream",
          "text": [
            "(None, 55) <dtype: 'float32'> i\n",
            "(None, 15) <dtype: 'float32'> o\n",
            "dense (None, 55) float32\n",
            "dense_1 (None, 15) float32\n",
            "dense_2 (None, 55) float32\n",
            "dense_3 (None, 55) float32\n",
            "dense_4 (None, 55) float32\n",
            "dense_5 (None, 55) float32\n",
            "dense_6 (None, 55) float32\n",
            "dense_7 (None, 55) float32\n"
          ]
        },
        {
          "data": {
            "text/plain": [
              "[None, None, None, None, None, None, None, None]"
            ]
          },
          "execution_count": 15,
          "metadata": {},
          "output_type": "execute_result"
        }
      ],
      "source": [
        "[print(i.shape, i.dtype,'i') for i in model.inputs]\n",
        "[print(o.shape, o.dtype, 'o') for o in model.outputs]\n",
        "[print(l.name, l.input_shape, l.dtype) for l in model.layers]"
      ]
    },
    {
      "cell_type": "code",
      "execution_count": null,
      "metadata": {
        "id": "dpOajzhR0Flc"
      },
      "outputs": [],
      "source": [
        "# x_train.shape, x_test.shape\n",
        "# # x_train[54:55]"
      ]
    },
    {
      "cell_type": "code",
      "execution_count": null,
      "metadata": {
        "colab": {
          "base_uri": "https://localhost:8080/"
        },
        "id": "kwWOLg7k1uK5",
        "outputId": "f353068f-3a3d-4223-d549-b9d853c24604"
      },
      "outputs": [
        {
          "data": {
            "text/plain": [
              "((1979513,), (848363,))"
            ]
          },
          "execution_count": 78,
          "metadata": {},
          "output_type": "execute_result"
        }
      ],
      "source": [
        "y_train.shape, y_test.shape "
      ]
    },
    {
      "cell_type": "code",
      "execution_count": null,
      "metadata": {
        "colab": {
          "background_save": true,
          "base_uri": "https://localhost:8080/"
        },
        "id": "OUVugepIi3Kc",
        "outputId": "65aecf2a-51e9-4e22-8086-188218a3c954"
      },
      "outputs": [
        {
          "name": "stdout",
          "output_type": "stream",
          "text": [
            "Epoch 1/10\n",
            "123720/123720 [==============================] - 189s 2ms/step - loss: nan - accuracy: 0.8034\n",
            "Epoch 2/10\n",
            "123720/123720 [==============================] - 188s 2ms/step - loss: nan - accuracy: 0.8034\n",
            "Epoch 3/10\n",
            "123720/123720 [==============================] - 188s 2ms/step - loss: nan - accuracy: 0.8034\n",
            "Epoch 4/10\n",
            "123720/123720 [==============================] - 187s 2ms/step - loss: nan - accuracy: 0.8034\n",
            "Epoch 5/10\n",
            "123720/123720 [==============================] - 188s 2ms/step - loss: nan - accuracy: 0.8034\n",
            "Epoch 6/10\n",
            "123720/123720 [==============================] - 186s 2ms/step - loss: nan - accuracy: 0.8034\n",
            "Epoch 7/10\n",
            "123720/123720 [==============================] - 187s 2ms/step - loss: nan - accuracy: 0.8034\n",
            "Epoch 8/10\n",
            "123720/123720 [==============================] - 186s 2ms/step - loss: nan - accuracy: 0.8034\n",
            "Epoch 9/10\n",
            "123720/123720 [==============================] - 188s 2ms/step - loss: nan - accuracy: 0.8034\n",
            "Epoch 10/10\n",
            "123720/123720 [==============================] - 183s 1ms/step - loss: nan - accuracy: 0.8034\n"
          ]
        }
      ],
      "source": [
        "hist = model.fit(train_dataset, train_labels,\n",
        "          batch_size=16, epochs=10)"
      ]
    },
    {
      "cell_type": "code",
      "execution_count": null,
      "metadata": {
        "id": "52U9h7YmX2E_"
      },
      "outputs": [],
      "source": [
        "metrics = [\n",
        "    keras.metrics.FalseNegatives(name=\"fn\"),\n",
        "    keras.metrics.FalsePositives(name=\"fp\"),\n",
        "    keras.metrics.TrueNegatives(name=\"tn\"),\n",
        "    keras.metrics.TruePositives(name=\"tp\"),\n",
        "    keras.metrics.Precision(name=\"precision\"),\n",
        "    keras.metrics.Recall(name=\"recall\"),\n",
        "]\n",
        "\n",
        "model.compile(\n",
        "    optimizer=keras.optimizers.Adam(1e-2), loss=\"binary_crossentropy\", metrics=metrics\n",
        ")"
      ]
    },
    {
      "cell_type": "code",
      "execution_count": null,
      "metadata": {
        "id": "PAWOLM42Zm06"
      },
      "outputs": [],
      "source": [
        "model.fit(\n",
        "    x_train,\n",
        "    y_train,\n",
        "    batch_size=32,\n",
        "    epochs=30,\n",
        "    verbose=2,\n",
        "    # callbacks=callbacks,\n",
        "    validation_data=(y_test,y_train),\n",
        "    # class_weight=class_weights,\n",
        ")"
      ]
    },
    {
      "cell_type": "code",
      "execution_count": null,
      "metadata": {
        "id": "8XPjamvufZUI"
      },
      "outputs": [],
      "source": []
    },
    {
      "cell_type": "code",
      "execution_count": null,
      "metadata": {
        "id": "D8OkgxomfZaJ"
      },
      "outputs": [],
      "source": [
        "import numpy as np\n",
        "from sklearn.utils import class_weight\n",
        "class_weights = class_weight.compute_class_weight('balanced',\n",
        "                                                 np.unique(X),\n",
        "                                                 X)\n",
        "class_weights"
      ]
    },
    {
      "cell_type": "code",
      "execution_count": null,
      "metadata": {
        "colab": {
          "base_uri": "https://localhost:8080/"
        },
        "id": "iKVUagP5fZcm",
        "outputId": "4f5926b5-f367-4b1b-9cb0-0236053e55b9"
      },
      "outputs": [
        {
          "data": {
            "text/plain": [
              "30"
            ]
          },
          "execution_count": 43,
          "metadata": {},
          "output_type": "execute_result"
        }
      ],
      "source": [
        "l = [0.0, -1.3598071336738, -0.0727811733098497, 2.53634673796914, 1.37815522427443, -0.338320769942518, 0.462387777762292, 0.239598554061257, 0.0986979012610507, 0.363786969611213, 0.0907941719789316, -0.551599533260813, -0.617800855762348, -0.991389847235408, -0.311169353699879, 1.46817697209427, -0.470400525259478, 0.207971241929242, 0.0257905801985591, 0.403992960255733, 0.251412098239705, -0.018306777944153, 0.277837575558899, -0.110473910188767, 0.0669280749146731, 0.128539358273528, -0.189114843888824, 0.133558376740387, -0.0210530534538215, 149.62]\n",
        "len(l)"
      ]
    },
    {
      "cell_type": "code",
      "execution_count": null,
      "metadata": {
        "id": "lV83W3C7fcTu"
      },
      "outputs": [],
      "source": []
    }
  ],
  "metadata": {
    "colab": {
      "provenance": []
    },
    "kernelspec": {
      "display_name": "Python 3",
      "name": "python3"
    },
    "language_info": {
      "name": "python"
    }
  },
  "nbformat": 4,
  "nbformat_minor": 0
}